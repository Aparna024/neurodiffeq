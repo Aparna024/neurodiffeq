{
 "cells": [
  {
   "cell_type": "markdown",
   "metadata": {},
   "source": [
    "# How Does It Work?\n",
    "\n",
    "To solve a differential equation. We need the solution to satisfy 2 things:\n",
    "1. They need to satisfy the equation\n",
    "2. They need to satisfy the initial/boundary conditions"
   ]
  },
  {
   "cell_type": "markdown",
   "metadata": {},
   "source": [
    "## The Equation Part\n",
    "\n",
    "The first part is done by 'minimizing' the equation. For example, if we are solving:\n",
    "\n",
    "$$\n",
    "\\frac{dx}{dt} - x = 0\n",
    "$$\n",
    "\n",
    "and we choose L2-loss as our loss function, then the objective of out optimization problem will be:\n",
    "\n",
    "$$\n",
    "\\min_{\\vec{p}}(\\frac{d\\tilde{x}(\\vec{p}, t)}{dt} - \\tilde{x}(\\vec{p}, t))^2\n",
    "$$\n",
    "\n",
    "Where $\\vec{p}$ are the weights of the neural network and $\\tilde{x(\\vec{p}, t)}$ is the modified output of the neural network. How it is modified will be explained in the next section. We can see that when this objective function is driven to 0, then the equation is satisfied. "
   ]
  },
  {
   "cell_type": "markdown",
   "metadata": {},
   "source": [
    "## The Initial/Boundary Conditions Part\n",
    "\n",
    "To solve an ODE, our neural network will have 1 input unit and 1 output unit to approximate an $\\mathbb{R} \\to \\mathbb{R}$ function. Suppose the output of the neural network is $x(\\vec{p}, t)$. The output of the neural network won't satisfy the initial/boundary condition unless we enforce the form of our solution. For example, for a initial value problem where we want $x(t)\\bigg|_{t = t_0} = x_0$. We can write our solution in the form of\n",
    "\n",
    "$$\n",
    "\\tilde{x}(\\vec{p}, t) = (1-e^{t_0-t})x(\\vec{p}, t) + x_0\n",
    "$$\n",
    "\n",
    "In this way, when $t = t_0$, the first term will vanish and the value of $\\tilde{x}(\\vec{p}, t)$ is bound to be $x_0$. In `neurodiffeq`, the output of the solution first goes through this transformation before the objective function in the previous section is calculated.\n",
    "\n",
    "This trick can be used on other initial/boundary conditions as well."
   ]
  }
 ],
 "metadata": {
  "kernelspec": {
   "display_name": "Python 3",
   "language": "python",
   "name": "python3"
  },
  "language_info": {
   "codemirror_mode": {
    "name": "ipython",
    "version": 3
   },
   "file_extension": ".py",
   "mimetype": "text/x-python",
   "name": "python",
   "nbconvert_exporter": "python",
   "pygments_lexer": "ipython3",
   "version": "3.6.7"
  }
 },
 "nbformat": 4,
 "nbformat_minor": 2
}
