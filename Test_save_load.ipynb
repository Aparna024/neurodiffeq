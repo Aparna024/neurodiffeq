{
 "cells": [
  {
   "cell_type": "code",
   "execution_count": 2,
   "metadata": {},
   "outputs": [],
   "source": [
    "#import libraries\n",
    "\n",
    "from neurodiffeq import diff      # the differentiation operation\n",
    "from neurodiffeq.ode import solve # the ANN-based solver\n",
    "from neurodiffeq.conditions import IVP   # the initial condition\n",
    "from neurodiffeq.solvers import Solver1D\n",
    "from neurodiffeq.ode import solve_system\n",
    "from neurodiffeq.monitors import Monitor1D\n",
    "from neurodiffeq.callbacks import MonitorCallback\n",
    "import numpy as np\n",
    "import torch\n",
    "import matplotlib.pyplot as plt\n",
    "\n",
    "ts = np.linspace(0,40.0,100)\n",
    "ts = ts.reshape(-1,1)\n",
    "ts = torch.from_numpy(ts)"
   ]
  },
  {
   "cell_type": "code",
   "execution_count": 3,
   "metadata": {},
   "outputs": [
    {
     "data": {
      "image/png": "[encoded data removed]",
      "text/plain": [
       "<Figure size 432x288 with 1 Axes>"
      ]
     },
     "metadata": {
      "needs_background": "light"
     },
     "output_type": "display_data"
    }
   ],
   "source": [
    "# Declare a solver for simple population equation. Fit the solver for only a 100 epochs as we need to continue training later.\n",
    "\n",
    "simple_ode = lambda u,t : [diff(u,t) + u]\n",
    "\n",
    "init = [IVP(t_0=0.0, u_0=1.0)]\n",
    "\n",
    "solver = Solver1D(\n",
    "    ode_system=simple_ode,\n",
    "    conditions=init,\n",
    "    t_min=0.1,\n",
    "    t_max=12.0,)\n",
    "\n",
    "solver.fit(max_epochs=100)\n",
    "\n",
    "soln = solver.get_solution()\n",
    "\n",
    "plt.plot(ts,soln(ts).detach().numpy())\n",
    "plt.show()"
   ]
  },
  {
   "cell_type": "markdown",
   "metadata": {},
   "source": [
    "## Testing save/load through solver methods"
   ]
  },
  {
   "cell_type": "code",
   "execution_count": 5,
   "metadata": {},
   "outputs": [],
   "source": [
    "#Call the save method on the instance of solver\n",
    "\n",
    "solver.save('test_file')"
   ]
  },
  {
   "cell_type": "code",
   "execution_count": 6,
   "metadata": {
    "collapsed": true
   },
   "outputs": [],
   "source": [
    "#Call the load on the solver class and not on the instance\n",
    "\n",
    "solver_new = Solver1D.load('test_file')"
   ]
  },
  {
   "cell_type": "markdown",
   "metadata": {},
   "source": [
    "**Plot before and after loading plots for solution**"
   ]
  },
  {
   "cell_type": "code",
   "execution_count": 7,
   "metadata": {},
   "outputs": [
    {
     "data": {
      "text/plain": [
       "[<matplotlib.lines.Line2D at 0x221ce3d1f98>]"
      ]
     },
     "execution_count": 7,
     "metadata": {},
     "output_type": "execute_result"
    },
    {
     "data": {
      "image/png": "[encoded data removed]",
      "text/plain": [
       "<Figure size 432x288 with 1 Axes>"
      ]
     },
     "metadata": {
      "needs_background": "light"
     },
     "output_type": "display_data"
    }
   ],
   "source": [
    "# Fit for another 100 epochs and plot the before and after results to check if training continued\n",
    "\n",
    "solver_new.fit(max_epochs = 100)\n",
    "soln_new_post = solver_new.get_solution()\n",
    "plt.plot(ts,soln(ts).detach().numpy())\n",
    "plt.plot(ts,soln_new_post(ts).detach().numpy())"
   ]
  },
  {
   "cell_type": "markdown",
   "metadata": {},
   "source": [
    "## Using the save/load functions to save complete solver object"
   ]
  },
  {
   "cell_type": "code",
   "execution_count": 8,
   "metadata": {
    "collapsed": true
   },
   "outputs": [],
   "source": [
    "#import the save_solver and load_solver functions\n",
    "\n",
    "from neurodiffeq.solvers_utils  import save_solver\n",
    "from neurodiffeq.solvers_utils  import load_solver\n",
    "\n",
    "save_solver(solver,'solver_save')"
   ]
  },
  {
   "cell_type": "code",
   "execution_count": 9,
   "metadata": {
    "collapsed": true
   },
   "outputs": [],
   "source": [
    "#Load the saved solver from the file\n",
    "\n",
    "solver_load = load_solver('solver_save')"
   ]
  },
  {
   "cell_type": "code",
   "execution_count": 10,
   "metadata": {},
   "outputs": [
    {
     "name": "stdout",
     "output_type": "stream",
     "text": [
      "100\n"
     ]
    }
   ],
   "source": [
    "#Check if its the same solver\n",
    "\n",
    "print(solver_load.get_internals()['global_epoch'])"
   ]
  },
  {
   "cell_type": "markdown",
   "metadata": {},
   "source": [
    "**Continue training and get plot**"
   ]
  },
  {
   "cell_type": "code",
   "execution_count": 11,
   "metadata": {},
   "outputs": [
    {
     "data": {
      "text/plain": [
       "[<matplotlib.lines.Line2D at 0x221ce41d208>]"
      ]
     },
     "execution_count": 11,
     "metadata": {},
     "output_type": "execute_result"
    },
    {
     "data": {
      "image/png": "[encoded data removed]",
      "text/plain": [
       "<Figure size 432x288 with 1 Axes>"
      ]
     },
     "metadata": {
      "needs_background": "light"
     },
     "output_type": "display_data"
    }
   ],
   "source": [
    "#Do the same as was done for the save/load by methods\n",
    "\n",
    "solver_load.fit(max_epochs = 100)\n",
    "soln_load = solver_load.get_solution()\n",
    "plt.plot(ts,soln(ts).detach().numpy())\n",
    "plt.plot(ts,soln_load(ts).detach().numpy())"
   ]
  }
 ],
 "metadata": {
  "kernelspec": {
   "display_name": "Python 3",
   "language": "python",
   "name": "python3"
  },
  "language_info": {
   "codemirror_mode": {
    "name": "ipython",
    "version": 3
   },
   "file_extension": ".py",
   "mimetype": "text/x-python",
   "name": "python",
   "nbconvert_exporter": "python",
   "pygments_lexer": "ipython3",
   "version": "3.6.3"
  }
 },
 "nbformat": 4,
 "nbformat_minor": 2
}
