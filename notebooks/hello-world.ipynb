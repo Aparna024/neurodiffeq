{
 "cells": [
  {
   "cell_type": "markdown",
   "metadata": {},
   "source": [
    "We start with a simple ODE:\n",
    "\n",
    "$$\\dfrac{dx}{dt}=\\lambda x, x(t=t_0)=x_0$$\n",
    "\n",
    "This problem can be formulated as a machine learning problem where the training examples are\n",
    "\n",
    "$$(t_i, \\lambda x_i), i \\in \\{1, 2, ..., N\\}$$\n",
    "\n",
    "and the loss function is\n",
    "\n",
    "$$\\mathcal{L}(\\text{NN})=(\\dfrac{dx}{dt}-\\lambda x)^2$$\n",
    "\n",
    "where NN is the transformation learned by a neural network. We can enforce the initial condition $x(t=t_0)=x_0$ by setting\n",
    "\n",
    "$$x = x_0 + (t-t_0)\\text{NN}(t)$$\n",
    "\n",
    "at the output layer of the network."
   ]
  },
  {
   "cell_type": "code",
   "execution_count": 1,
   "metadata": {},
   "outputs": [],
   "source": [
    "import torch\n",
    "import torch.nn            as nn\n",
    "import torch.optim         as optim\n",
    "import torch.autograd      as autograd\n",
    "\n",
    "import numpy as np\n",
    "import matplotlib.pyplot   as plt\n",
    "%matplotlib inline"
   ]
  },
  {
   "cell_type": "code",
   "execution_count": 2,
   "metadata": {},
   "outputs": [],
   "source": [
    "class FCNN(nn.Module):\n",
    "    def __init__(self, hidden_units, initial_conidtion, lambda_):\n",
    "        super(FCNN, self).__init__()\n",
    "        self.t0, self.x0 = initial_conidtion\n",
    "        self.lambda_ = lambda_\n",
    "        self.fc1 = nn.Linear(1, hidden_units)\n",
    "        self.fc2 = nn.Linear(hidden_units, 1)\n",
    "\n",
    "    def forward(self, t):\n",
    "        x = torch.relu(self.fc1(t))\n",
    "        x = torch.relu(self.fc2(x))\n",
    "        x = self.x0 + (t-self.t0)*x\n",
    "        return x"
   ]
  },
  {
   "cell_type": "code",
   "execution_count": 3,
   "metadata": {},
   "outputs": [],
   "source": [
    "# generate training examples before training\n",
    "\n",
    "# def train(fcnn, t_in_batches, optimizer, criterion, n_epochs):\n",
    "#     for epoch in range(n_epochs):\n",
    "#         for t_in in t_in_batches:\n",
    "#             optimizer.zero_grad()\n",
    "            \n",
    "#             x_out = fcnn(t_in)\n",
    "#             dxdt_true = x_out * fcnn.lambda_\n",
    "#             dxdt = autograd.grad(x_out, t_in, create_graph=True, \n",
    "#                                  grad_outputs=torch.ones_like(dxdt_true))[0]\n",
    "#             loss = criterion(dxdt, dxdt_true)\n",
    "#             loss.backward()\n",
    "            \n",
    "#             optimizer.step()\n",
    "\n",
    "# # solve for dx/dt = x, x(t=0) = 1\n",
    "# fcnn = FCNN(hidden_units=100, initial_conidtion=(0.0, 1.0), lambda_=1)\n",
    "# # 100 batches, each with a single 1-dimensional example \n",
    "# t_in_batches = torch.linspace(0, 1, 100, requires_grad=True).reshape(10, 10, 1) \n",
    "# optimizer = optim.SGD(fcnn.parameters(), lr=0.01)\n",
    "# criterion = nn.MSELoss()\n",
    "\n",
    "# train(fcnn, t_in_batches, optimizer=optimizer, criterion=criterion, n_epochs=10)\n",
    "\n",
    "# ts = t_in_batches.detach().numpy().flatten()\n",
    "# xs = fcnn(t_in_batches).detach().numpy().flatten()\n",
    "# plt.plot(ts, xs,         label='x(t) by NN')\n",
    "# plt.plot(ts, np.exp(ts), label='x(t)')\n",
    "# plt.legend();"
   ]
  },
  {
   "cell_type": "code",
   "execution_count": 4,
   "metadata": {},
   "outputs": [],
   "source": [
    "class TrainingExampleGenerator:\n",
    "    def __init__(self, t_min, t_max):\n",
    "        self.scale = t_max - t_min\n",
    "        self.t_min = t_min\n",
    "        \n",
    "    def get_t_in(self, batch_size):\n",
    "        return torch.rand((batch_size, 1), requires_grad=True)*self.scale + self.t_min"
   ]
  },
  {
   "cell_type": "code",
   "execution_count": 5,
   "metadata": {},
   "outputs": [],
   "source": [
    "def train_gen(fcnn, t_gen, optimizer, criterion, n_examples, n_epochs, batch_size):\n",
    "    loss_history = []\n",
    "    for epoch in range(n_epochs):\n",
    "        for batch in range(n_examples//batch_size):\n",
    "            optimizer.zero_grad()\n",
    "            \n",
    "            t_in  = t_gen.get_t_in(batch_size)\n",
    "            x_out = fcnn(t_in)\n",
    "            dxdt_true = x_out * fcnn.lambda_\n",
    "            dxdt      = autograd.grad(x_out, t_in, create_graph=True, \n",
    "                                      grad_outputs=torch.ones_like(dxdt_true))[0]\n",
    "            loss = criterion(dxdt, dxdt_true)\n",
    "            loss_history.append(loss)\n",
    "            loss.backward()\n",
    "            \n",
    "            optimizer.step()\n",
    "    return loss_history"
   ]
  },
  {
   "cell_type": "code",
   "execution_count": 6,
   "metadata": {},
   "outputs": [],
   "source": [
    "t_min, t_max = -1.0, 1.0\n",
    "\n",
    "# solve for dx/dt = x, x(t=0) = 1\n",
    "fcnn = FCNN(hidden_units=100, initial_conidtion=(0.0, 1.0), lambda_=1)\n",
    "# generate training examples in the range (t_min, t_max)\n",
    "t_gen = TrainingExampleGenerator(t_min, t_max)\n",
    "optimizer = optim.SGD(fcnn.parameters(), lr=0.01)\n",
    "criterion = nn.MSELoss()\n",
    "\n",
    "loss_history = train_gen(fcnn, t_gen, optimizer=optimizer, criterion=criterion, \n",
    "                         n_examples=1024, n_epochs=8, batch_size=64)"
   ]
  },
  {
   "cell_type": "code",
   "execution_count": 7,
   "metadata": {},
   "outputs": [
    {
     "data": {
      "image/png": "[encoded data removed]",
      "text/plain": [
       "<Figure size 432x288 with 1 Axes>"
      ]
     },
     "metadata": {
      "needs_background": "light"
     },
     "output_type": "display_data"
    }
   ],
   "source": [
    "plot_t_min, plot_t_max = t_min-2, t_max+2\n",
    "\n",
    "ts = np.linspace(plot_t_min, plot_t_max, 100)\n",
    "xs = fcnn( torch.linspace(plot_t_min, plot_t_max, 100).reshape((-1, 1, 1)) )\\\n",
    "     .detach().numpy().flatten()\n",
    "plt.plot(ts, xs,         label='x(t) by NN')\n",
    "plt.plot(ts, np.exp(ts), label='x(t)')\n",
    "plt.legend()\n",
    "plt.title('solutions')\n",
    "plt.show()"
   ]
  },
  {
   "cell_type": "code",
   "execution_count": 8,
   "metadata": {},
   "outputs": [
    {
     "data": {
      "image/png": "[encoded data removed]",
      "text/plain": [
       "<Figure size 432x288 with 1 Axes>"
      ]
     },
     "metadata": {
      "needs_background": "light"
     },
     "output_type": "display_data"
    }
   ],
   "source": [
    "plt.plot(loss_history)\n",
    "plt.title('loss during training')\n",
    "plt.ylabel('loss')\n",
    "plt.xlabel('batches')\n",
    "plt.yscale('log')\n",
    "plt.show()"
   ]
  },
  {
   "cell_type": "markdown",
   "metadata": {},
   "source": [
    "The code is still broken:\n",
    "* Activation function: relu sometimes gives a flat line, sigmoid seems to converge slowly (deminishing gradient?)\n",
    "* Using t_in=linspace(0, 3, 100) or linspace(-1, 1, 100) gives flat line (something wrong with weight initialization?)"
   ]
  }
 ],
 "metadata": {
  "kernelspec": {
   "display_name": "Python 3",
   "language": "python",
   "name": "python3"
  },
  "language_info": {
   "codemirror_mode": {
    "name": "ipython",
    "version": 3
   },
   "file_extension": ".py",
   "mimetype": "text/x-python",
   "name": "python",
   "nbconvert_exporter": "python",
   "pygments_lexer": "ipython3",
   "version": "3.6.7"
  }
 },
 "nbformat": 4,
 "nbformat_minor": 2
}
