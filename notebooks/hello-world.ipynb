{
 "cells": [
  {
   "cell_type": "markdown",
   "metadata": {},
   "source": [
    "We start with a simple ODE:\n",
    "\n",
    "$$\\dfrac{dx}{dt}=\\lambda x, x(t=t_0)=x_0$$\n",
    "\n",
    "This problem can be formulated as a machine learning problem where the training examples are\n",
    "\n",
    "$$(t_i, \\lambda x_i), i \\in \\{1, 2, ..., N\\}$$\n",
    "\n",
    "and the loss function is\n",
    "\n",
    "$$\\mathcal{L}(\\text{NN})=(\\dfrac{dx}{dt}-\\lambda x)^2$$\n",
    "\n",
    "where NN is the transformation learned by a neural network. We can enforce the initial condition $x(t=t_0)=x_0$ by setting\n",
    "\n",
    "$$x = x_0 + (t-t_0)\\text{NN}(t)$$\n",
    "\n",
    "at the output layer of the network."
   ]
  },
  {
   "cell_type": "code",
   "execution_count": 1,
   "metadata": {},
   "outputs": [],
   "source": [
    "import torch\n",
    "import torch.nn            as nn\n",
    "import torch.optim         as optim\n",
    "import torch.autograd      as autograd\n",
    "\n",
    "import numpy as np\n",
    "import matplotlib.pyplot   as plt\n",
    "%matplotlib inline"
   ]
  },
  {
   "cell_type": "code",
   "execution_count": 2,
   "metadata": {},
   "outputs": [],
   "source": [
    "class FCNN(nn.Module):\n",
    "    \"\"\"\n",
    "    A fully connected neural network with one hidden layer. It is hard coded to solve the ODE dx/dt = lambda*x\n",
    "    \"\"\"\n",
    "    def __init__(self, hidden_units, initial_conidtion, lambda_):\n",
    "        \"\"\"\n",
    "        :param initial_conidtion: a tuple (x_0, t_0) specifying the initial condition of the ODE: x(t_0) = x_0\n",
    "        :param lambda_: the value of lambda in dx/dt = lambda*x\n",
    "        \"\"\"\n",
    "        super(FCNN, self).__init__()\n",
    "        self.t_0, self.x_0 = initial_conidtion\n",
    "        self.lambda_ = lambda_\n",
    "        self.fc1 = nn.Linear(1, hidden_units)\n",
    "        self.fc2 = nn.Linear(hidden_units, 1)\n",
    "\n",
    "    def forward(self, t):\n",
    "        x = torch.relu(self.fc1(t))\n",
    "        x = torch.relu(self.fc2(x))\n",
    "        x = self.x_0 + (t-self.t_0)*x # enforcing the initial condition\n",
    "        return x"
   ]
  },
  {
   "cell_type": "code",
   "execution_count": 3,
   "metadata": {},
   "outputs": [],
   "source": [
    "def get_examples(size, t_min=0.0, t_max=1.0, equally_spaced=False):\n",
    "    examples = torch.linspace(t_min, t_max, size) if equally_spaced else torch.rand(size)*(t_max-t_min) + t_min\n",
    "    examples.requires_grad = True\n",
    "    return examples"
   ]
  },
  {
   "cell_type": "code",
   "execution_count": 4,
   "metadata": {},
   "outputs": [],
   "source": [
    "def train(fcnn, examples, optimizer, criterion, n_epochs, batch_size):\n",
    "    \"\"\"\n",
    "    Train a fully connected neural network to solve an ODE. It is hard coded to solve the ODE dx/dt = lambda*x.\n",
    "    The training is done using mini-batches.\n",
    "    :param fcnn: a fully connected neural network\n",
    "    :param examples: the set of ts to train the neural network on\n",
    "    :param optimizer: a optimizer from pytorch.optim\n",
    "    :param criterion: a loss function from pytorch.nn\n",
    "    :param n_epochs: the number of passes through the training set\n",
    "    :param batch_size: the size of the minibatch\n",
    "    \"\"\"\n",
    "    loss_history = torch.zeros(n_epochs)\n",
    "    n_examples = len(examples)\n",
    "    if n_examples%batch_size != 0:\n",
    "        # I know this is stupid, I'll fix this later\n",
    "        raise RuntimeError('Please choose a batch_size such that it is a factor of the size of the training set.')\n",
    "    n_batches = n_examples//batch_size\n",
    "    for epoch in range(n_epochs):\n",
    "        loss_epoch = 0.0\n",
    "        perm = torch.randperm(n_examples)\n",
    "        t_in_batches = examples[perm].reshape((n_batches, batch_size, 1))\n",
    "        for t_in in t_in_batches:\n",
    "            optimizer.zero_grad()\n",
    "\n",
    "            x_out = fcnn(t_in)\n",
    "            # the right hand side of the ODE, it should be extracted out of this function for generalization\n",
    "            dxdt_true = x_out * fcnn.lambda_ \n",
    "            dxdt      = autograd.grad(x_out, t_in, create_graph=True, \n",
    "                                      grad_outputs=torch.ones_like(dxdt_true))[0]\n",
    "            loss = criterion(dxdt, dxdt_true)\n",
    "            loss_epoch += loss.item()\n",
    "            loss.backward(retain_graph=True)\n",
    "            \n",
    "            optimizer.step()\n",
    "        loss_history[epoch] = loss_epoch/n_batches\n",
    "    return loss_history.detach().numpy()"
   ]
  },
  {
   "cell_type": "code",
   "execution_count": 5,
   "metadata": {},
   "outputs": [],
   "source": [
    "lambda_       = 0.5\n",
    "t_0,   x_0   =  0.0, 1.0\n",
    "t_min, t_max =  0.0, 1.0\n",
    "\n",
    "# solve for dx/dt = x, x(t=0) = 1\n",
    "fcnn = FCNN(hidden_units=16, initial_conidtion=(t_0, x_0), lambda_=lambda_)\n",
    "# generate training examples in the range (t_min, t_max)\n",
    "ts_train = get_examples(256, t_min, t_max, equally_spaced=True)\n",
    "# pytorch's SGD is actually a gradient descent optimizer, if we update with one example at a time then it's SGD,\n",
    "# if we update with a mini-batch at a time them it's mini-batch gradient descent\n",
    "optimizer = optim.SGD(fcnn.parameters(), lr=0.01)\n",
    "criterion = nn.MSELoss()\n",
    "\n",
    "loss_history = train(fcnn, ts_train, optimizer=optimizer, criterion=criterion,\\\n",
    "                     n_epochs=100, batch_size=16)"
   ]
  },
  {
   "cell_type": "code",
   "execution_count": 6,
   "metadata": {},
   "outputs": [
    {
     "data": {
      "image/png": "[encoded data removed]",
      "text/plain": [
       "<Figure size 432x288 with 1 Axes>"
      ]
     },
     "metadata": {
      "needs_background": "light"
     },
     "output_type": "display_data"
    }
   ],
   "source": [
    "plot_t_min, plot_t_max = t_min-1, t_max+1\n",
    "\n",
    "ts = np.linspace(plot_t_min, plot_t_max, 100)\n",
    "xs = fcnn( torch.linspace(plot_t_min, plot_t_max, 100).reshape((-1, 1, 1)) )\\\n",
    "     .detach().numpy().flatten()\n",
    "plt.plot(ts, xs,                     label='x(t) by NN')\n",
    "plt.plot(ts, x_0*np.exp(lambda_*ts), label='x(t)')\n",
    "plt.legend()\n",
    "plt.title('solutions')\n",
    "plt.show()"
   ]
  },
  {
   "cell_type": "code",
   "execution_count": 7,
   "metadata": {},
   "outputs": [
    {
     "data": {
      "image/png": "[encoded data removed]",
      "text/plain": [
       "<Figure size 432x288 with 1 Axes>"
      ]
     },
     "metadata": {
      "needs_background": "light"
     },
     "output_type": "display_data"
    }
   ],
   "source": [
    "plt.plot(loss_history)\n",
    "plt.title('loss during training')\n",
    "plt.ylabel('loss')\n",
    "plt.xlabel('epochs')\n",
    "plt.yscale('log')\n",
    "plt.show()"
   ]
  },
  {
   "cell_type": "markdown",
   "metadata": {},
   "source": [
    "The code is still broken:\n",
    "* Activation function: relu sometimes gives a flat line, sigmoid seems to converge slowly (deminishing gradient?)\n",
    "* Using t_in=linspace(0, 3, 100) or linspace(-1, 1, 100) gives flat line (something wrong with weight initialization?)"
   ]
  }
 ],
 "metadata": {
  "kernelspec": {
   "display_name": "Python 3",
   "language": "python",
   "name": "python3"
  },
  "language_info": {
   "codemirror_mode": {
    "name": "ipython",
    "version": 3
   },
   "file_extension": ".py",
   "mimetype": "text/x-python",
   "name": "python",
   "nbconvert_exporter": "python",
   "pygments_lexer": "ipython3",
   "version": "3.6.7"
  }
 },
 "nbformat": 4,
 "nbformat_minor": 2
}
