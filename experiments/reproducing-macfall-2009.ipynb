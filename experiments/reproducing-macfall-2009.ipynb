{
 "cells": [
  {
   "cell_type": "markdown",
   "metadata": {},
   "source": [
    "# Reproducing MacFall 2019"
   ]
  },
  {
   "cell_type": "code",
   "execution_count": 1,
   "metadata": {},
   "outputs": [],
   "source": [
    "import numpy as np\n",
    "from numpy import linalg\n",
    "import torch\n",
    "from torch import nn\n",
    "from custombc import Point, DirichletControlPoint, CustomDirichletBoundaryCondition\n",
    "from neurodiffeq import diff\n",
    "from neurodiffeq.networks import FCNN\n",
    "from neurodiffeq.pde import solve2D, ExampleGenerator2D, Monitor2D\n",
    "import matplotlib.pyplot as plt\n",
    "%matplotlib inline\n",
    "import pickle"
   ]
  },
  {
   "cell_type": "markdown",
   "metadata": {},
   "source": [
    "## Example Problem A"
   ]
  },
  {
   "cell_type": "markdown",
   "metadata": {},
   "source": [
    "<img src=\"problem-a.png\" alt=\"drawing\" width=\"500\"/>"
   ]
  },
  {
   "cell_type": "code",
   "execution_count": 2,
   "metadata": {},
   "outputs": [],
   "source": [
    "def solution_analytical_problem_a(x, y):\n",
    "    return np.exp(-x)*(x+y**3)"
   ]
  },
  {
   "cell_type": "code",
   "execution_count": 3,
   "metadata": {},
   "outputs": [],
   "source": [
    "control_points_problem_a = []\n",
    "points_on_each_edge = 41\n",
    "# psi(0, y) = y^3\n",
    "for point_y in np.linspace(0.0, 1.0, points_on_each_edge):\n",
    "    point_x = 0.0\n",
    "    psi = point_y**3\n",
    "    control_points_problem_a.append(\n",
    "        DirichletControlPoint(loc=(point_x, point_y), val=psi)\n",
    "    )\n",
    "# psi(1, y) = (1+y^3)/e\n",
    "for point_y in np.linspace(0.0, 1.0, points_on_each_edge):\n",
    "    point_x = 1.0\n",
    "    psi = (1+point_y**3)/np.e\n",
    "    control_points_problem_a.append(\n",
    "        DirichletControlPoint(loc=(point_x, point_y), val=psi)\n",
    "    )\n",
    "# psi(x, 0) = xe^(-x)\n",
    "for point_x in np.linspace(0.0, 1.0, points_on_each_edge):\n",
    "    point_y = 0.0\n",
    "    psi = point_x*np.exp(-point_x)\n",
    "    control_points_problem_a.append(\n",
    "        DirichletControlPoint(loc=(point_x, point_y), val=psi)\n",
    "    )\n",
    "# psi(x, 1) = (e^(-x))(1+x)\n",
    "for point_x in np.linspace(0.0, 1.0, points_on_each_edge):\n",
    "    point_y = 1.0\n",
    "    psi = np.exp(-point_x) * (1+point_x)\n",
    "    control_points_problem_a.append(\n",
    "        DirichletControlPoint(loc=(point_x, point_y), val=psi)\n",
    "    )\n",
    "cdbc_problem_a = CustomDirichletBoundaryCondition( \n",
    "    control_points_problem_a, \n",
    "    center_point=Point((0.5, 0.5)) \n",
    ")"
   ]
  },
  {
   "cell_type": "code",
   "execution_count": 4,
   "metadata": {
    "scrolled": false
   },
   "outputs": [],
   "source": [
    "# parameters are according to table 1\n",
    "# original paper used the 'healed topographical multilevel single linkage global optimization scheme \n",
    "# with the Lev- enberg–Marquardt gradient-descent method as the local search technique' (???)\n",
    "# here use Adams instead. also assume batch size = size of the training set\n",
    "# original paper used sigmoid activationm here use softplus instead.\n",
    "\n",
    "# nabla^2 psi(x, y) = (e^(-x))(x-2+y^3+6y)\n",
    "def de_problem_a(u, x, y):\n",
    "    return diff(u, x, order=2) + diff(u, y, order=2) - torch.exp(-x) * (x - 2 + y**3 + 6*y)\n",
    "\n",
    "# fully connected network with one hidden layer (35 hidden units with softplus activation)\n",
    "net = FCNN(n_input_units=2, n_hidden_units=35, n_hidden_layers=1, actv=nn.Sigmoid)\n",
    "\n",
    "# train on 28 X 28 grid\n",
    "solution_neural_net_problem_a, history_problem_a = solve2D(\n",
    "    pde=de_problem_a, condition= cdbc_problem_a,\n",
    "    xy_min=(0, 0), xy_max=(1, 1),\n",
    "    train_generator=ExampleGenerator2D(\n",
    "        (28, 28), (0, 0), (1, 1), method='equally-spaced'\n",
    "    ),\n",
    "    net=net, max_epochs=10000, batch_size=784\n",
    ")"
   ]
  },
  {
   "cell_type": "code",
   "execution_count": 5,
   "metadata": {},
   "outputs": [],
   "source": [
    "with open('solution-problem-a', 'wb') as pickle_file:\n",
    "    pickle.dump(solution_neural_net_problem_a, pickle_file, protocol=pickle.HIGHEST_PROTOCOL)\n",
    "with open('history-problem-a', 'wb') as pickle_file:\n",
    "    pickle.dump(history_problem_a, pickle_file, protocol=pickle.HIGHEST_PROTOCOL)"
   ]
  },
  {
   "cell_type": "code",
   "execution_count": 6,
   "metadata": {},
   "outputs": [],
   "source": [
    "with open('solution-problem-a', 'rb') as pickle_file:\n",
    "    solution_neural_net_problem_a = pickle.load(pickle_file)\n",
    "with open('history-problem-a', 'rb') as pickle_file:\n",
    "    history_problem_a = pickle.load(pickle_file)"
   ]
  },
  {
   "cell_type": "code",
   "execution_count": 7,
   "metadata": {},
   "outputs": [
    {
     "data": {
      "image/png": "[encoded data removed]",
      "text/plain": [
       "<Figure size 432x288 with 1 Axes>"
      ]
     },
     "metadata": {
      "needs_background": "light"
     },
     "output_type": "display_data"
    }
   ],
   "source": [
    "plt.loglog(history_problem_a['train'], label='training loss')\n",
    "plt.loglog(history_problem_a['valid'], label='validation loss')\n",
    "plt.legend();"
   ]
  },
  {
   "cell_type": "markdown",
   "metadata": {},
   "source": [
    "<img src=\"evaluation.png\" alt=\"drawing\" width=\"500\"/>"
   ]
  },
  {
   "cell_type": "code",
   "execution_count": 8,
   "metadata": {},
   "outputs": [],
   "source": [
    "def get_grid(x_from_to, y_from_to, x_n_points=100, y_n_points=100, as_tensor=False):\n",
    "    x_from, x_to = x_from_to\n",
    "    y_from, y_to = y_from_to\n",
    "    if as_tensor:\n",
    "        x = torch.linspace(x_from, x_to, x_n_points)\n",
    "        y = torch.linspace(y_from, y_to, y_n_points)\n",
    "        return torch.meshgrid(x, y)\n",
    "    else:\n",
    "        x = np.linspace(x_from, x_to, x_n_points)\n",
    "        y = np.linspace(y_from, y_to, y_n_points)\n",
    "        return np.meshgrid(x, y)\n",
    "\n",
    "def compare_contour(sol_net, sol_ana, eval_on_xs, eval_on_ys):\n",
    "    s_net = sol_net(eval_on_xs, eval_on_ys, as_type='np')\n",
    "    s_ana = sol_ana(eval_on_xs, eval_on_ys)\n",
    "    \n",
    "    fig = plt.figure(figsize=(18, 4))\n",
    "\n",
    "    ax1 = fig.add_subplot(131)\n",
    "    cs1 = ax1.contourf(eval_on_xs, eval_on_ys, s_net, cmap='coolwarm')\n",
    "    ax1.set_xlabel('x')\n",
    "    ax1.set_ylabel('y')\n",
    "    ax1.set_aspect('equal', adjustable='box')\n",
    "    ax1.set_title('ANN-based solution')\n",
    "    cbar1 = fig.colorbar(cs1, format='%.0e', ax=ax1)\n",
    "\n",
    "    ax2 = fig.add_subplot(132)\n",
    "    cs2 = ax2.contourf(eval_on_xs, eval_on_ys, s_ana, cmap='coolwarm')\n",
    "    ax2.set_xlabel('x')\n",
    "    ax2.set_ylabel('y')\n",
    "    ax2.set_aspect('equal', adjustable='box')\n",
    "    ax2.set_title('analytical solution')\n",
    "    cbar2 = fig.colorbar(cs2, format='%.0e', ax=ax2)\n",
    "\n",
    "    ax3 = fig.add_subplot(133)\n",
    "    cs3 = ax3.contourf(eval_on_xs, eval_on_ys, s_net-s_ana, cmap='coolwarm')\n",
    "    ax3.set_xlabel('x')\n",
    "    ax3.set_ylabel('y')\n",
    "    ax3.set_aspect('equal', adjustable='box')\n",
    "    ax3.set_title('residual of ANN-based solution')\n",
    "    cbar3 = fig.colorbar(cs3, format='%.0e', ax=ax3)\n",
    "    \n",
    "def relative_error_norm(sol_net, sol_ana, eval_on_xs, eval_on_ys):\n",
    "    s_net = sol_net(eval_on_xs, eval_on_ys, as_type='np')\n",
    "    s_ana = sol_ana(eval_on_xs, eval_on_ys)\n",
    "    return linalg.norm(s_net-s_ana) / linalg.norm(s_ana)"
   ]
  },
  {
   "cell_type": "code",
   "execution_count": 9,
   "metadata": {},
   "outputs": [],
   "source": [
    "xx_train, yy_train = get_grid(\n",
    "    x_from_to=(0, 1), y_from_to=(0, 1), \n",
    "    x_n_points=28, y_n_points=28\n",
    ")\n",
    "xx_valid, yy_valid = get_grid(\n",
    "    x_from_to=(0, 1), y_from_to=(0, 1), \n",
    "    x_n_points=100, y_n_points=100\n",
    ")"
   ]
  },
  {
   "cell_type": "code",
   "execution_count": 10,
   "metadata": {},
   "outputs": [
    {
     "data": {
      "image/png": "[encoded data removed]",
      "text/plain": [
       "<Figure size 1296x288 with 6 Axes>"
      ]
     },
     "metadata": {
      "needs_background": "light"
     },
     "output_type": "display_data"
    }
   ],
   "source": [
    "compare_contour(\n",
    "    solution_neural_net_problem_a, \n",
    "    solution_analytical_problem_a,\n",
    "    xx_valid, yy_valid\n",
    ")"
   ]
  },
  {
   "cell_type": "code",
   "execution_count": 11,
   "metadata": {},
   "outputs": [
    {
     "data": {
      "text/plain": [
       "0.0007115471850994183"
      ]
     },
     "execution_count": 11,
     "metadata": {},
     "output_type": "execute_result"
    }
   ],
   "source": [
    "relative_error_norm(\n",
    "    solution_neural_net_problem_a, \n",
    "    solution_analytical_problem_a,\n",
    "    xx_train, yy_train\n",
    ")"
   ]
  },
  {
   "cell_type": "code",
   "execution_count": 12,
   "metadata": {},
   "outputs": [
    {
     "data": {
      "text/plain": [
       "0.0007405495907166547"
      ]
     },
     "execution_count": 12,
     "metadata": {},
     "output_type": "execute_result"
    }
   ],
   "source": [
    "relative_error_norm(\n",
    "    solution_neural_net_problem_a, \n",
    "    solution_analytical_problem_a,\n",
    "    xx_valid, yy_valid\n",
    ")"
   ]
  }
 ],
 "metadata": {
  "kernelspec": {
   "display_name": "Python 3",
   "language": "python",
   "name": "python3"
  },
  "language_info": {
   "codemirror_mode": {
    "name": "ipython",
    "version": 3
   },
   "file_extension": ".py",
   "mimetype": "text/x-python",
   "name": "python",
   "nbconvert_exporter": "python",
   "pygments_lexer": "ipython3",
   "version": "3.7.4"
  }
 },
 "nbformat": 4,
 "nbformat_minor": 2
}
