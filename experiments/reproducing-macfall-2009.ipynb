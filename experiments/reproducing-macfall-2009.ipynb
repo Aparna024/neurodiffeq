{
 "cells": [
  {
   "cell_type": "markdown",
   "metadata": {},
   "source": [
    "# Reproducing MacFall 2019"
   ]
  },
  {
   "cell_type": "code",
   "execution_count": 1,
   "metadata": {},
   "outputs": [],
   "source": [
    "RETRAIN_PROBLEM_A = False\n",
    "RETRAIN_PROBLEM_B = False"
   ]
  },
  {
   "cell_type": "code",
   "execution_count": 2,
   "metadata": {},
   "outputs": [],
   "source": [
    "import numpy as np\n",
    "from numpy import linalg\n",
    "import torch\n",
    "from torch import nn\n",
    "from custombc import Point, DirichletControlPoint, CustomDirichletBoundaryCondition\n",
    "from neurodiffeq import diff\n",
    "from neurodiffeq.networks import FCNN\n",
    "from neurodiffeq.pde import solve2D, ExampleGenerator2D, Monitor2D\n",
    "import matplotlib.pyplot as plt\n",
    "%matplotlib inline\n",
    "import matplotlib.tri as tri\n",
    "import pickle"
   ]
  },
  {
   "cell_type": "markdown",
   "metadata": {},
   "source": [
    "## Example Problem A"
   ]
  },
  {
   "cell_type": "markdown",
   "metadata": {},
   "source": [
    "<img src=\"problem-a.png\" alt=\"drawing\" width=\"500\"/>"
   ]
  },
  {
   "cell_type": "code",
   "execution_count": 3,
   "metadata": {},
   "outputs": [],
   "source": [
    "def solution_analytical_problem_a(x, y):\n",
    "    return np.exp(-x)*(x+y**3)"
   ]
  },
  {
   "cell_type": "code",
   "execution_count": 4,
   "metadata": {},
   "outputs": [],
   "source": [
    "if RETRAIN_PROBLEM_A:\n",
    "    control_points_problem_a = []\n",
    "    points_on_each_edge = 41\n",
    "    # psi(0, y) = y^3\n",
    "    for point_y in np.linspace(0.0, 1.0, points_on_each_edge):\n",
    "        point_x = 0.0\n",
    "        psi = point_y**3\n",
    "        control_points_problem_a.append(\n",
    "            DirichletControlPoint(loc=(point_x, point_y), val=psi)\n",
    "        )\n",
    "    # psi(1, y) = (1+y^3)/e\n",
    "    for point_y in np.linspace(0.0, 1.0, points_on_each_edge):\n",
    "        point_x = 1.0\n",
    "        psi = (1+point_y**3)/np.e\n",
    "        control_points_problem_a.append(\n",
    "            DirichletControlPoint(loc=(point_x, point_y), val=psi)\n",
    "        )\n",
    "    # psi(x, 0) = xe^(-x)\n",
    "    for point_x in np.linspace(0.0, 1.0, points_on_each_edge):\n",
    "        point_y = 0.0\n",
    "        psi = point_x*np.exp(-point_x)\n",
    "        control_points_problem_a.append(\n",
    "            DirichletControlPoint(loc=(point_x, point_y), val=psi)\n",
    "        )\n",
    "    # psi(x, 1) = (e^(-x))(1+x)\n",
    "    for point_x in np.linspace(0.0, 1.0, points_on_each_edge):\n",
    "        point_y = 1.0\n",
    "        psi = np.exp(-point_x) * (1+point_x)\n",
    "        control_points_problem_a.append(\n",
    "            DirichletControlPoint(loc=(point_x, point_y), val=psi)\n",
    "        )\n",
    "    cdbc_problem_a = CustomDirichletBoundaryCondition( \n",
    "        control_points_problem_a, \n",
    "        center_point=Point((0.5, 0.5)) \n",
    "    )"
   ]
  },
  {
   "cell_type": "code",
   "execution_count": 5,
   "metadata": {
    "scrolled": false
   },
   "outputs": [],
   "source": [
    "%matplotlib notebook\n",
    "if RETRAIN_PROBLEM_A:\n",
    "    # parameters are according to table 1\n",
    "    # original paper used the 'healed topographical multilevel single linkage global optimization scheme \n",
    "    # with the Lev- enberg–Marquardt gradient-descent method as the local search technique' (???)\n",
    "    # here use Adams instead. also assume batch size = size of the training set\n",
    "    # original paper used sigmoid activationm here use softplus instead.\n",
    "\n",
    "    # nabla^2 psi(x, y) = (e^(-x))(x-2+y^3+6y)\n",
    "    def de_problem_a(u, x, y):\n",
    "        return diff(u, x, order=2) + diff(u, y, order=2) - torch.exp(-x) * (x - 2 + y**3 + 6*y)\n",
    "\n",
    "    # fully connected network with one hidden layer (35 hidden units with softplus activation)\n",
    "    net = FCNN(n_input_units=2, n_hidden_units=35, n_hidden_layers=1, actv=nn.Softplus)\n",
    "\n",
    "    # train on 28 X 28 grid\n",
    "    solution_neural_net_problem_a, history_problem_a = solve2D(\n",
    "        pde=de_problem_a, condition=cdbc_problem_a,\n",
    "        xy_min=(0, 0), xy_max=(1, 1),\n",
    "        train_generator=ExampleGenerator2D(\n",
    "            (28, 28), (0, 0), (1, 1), method='equally-spaced'\n",
    "        ),\n",
    "        valid_generator=ExampleGenerator2D(\n",
    "            (100, 100), (0, 0), (1, 1), method='equally-spaced'\n",
    "        ),\n",
    "        net=net, max_epochs=10000, batch_size=784,\n",
    "        monitor=Monitor2D(check_every=1, xy_min=(0, 0), xy_max=(1, 1))\n",
    "    )\n",
    "%matplotlib inline"
   ]
  },
  {
   "cell_type": "code",
   "execution_count": 6,
   "metadata": {},
   "outputs": [],
   "source": [
    "if RETRAIN_PROBLEM_A:\n",
    "    with open('solution-problem-a', 'wb') as pickle_file:\n",
    "        pickle.dump(solution_neural_net_problem_a, pickle_file, protocol=pickle.HIGHEST_PROTOCOL)\n",
    "    with open('history-problem-a', 'wb') as pickle_file:\n",
    "        pickle.dump(history_problem_a, pickle_file, protocol=pickle.HIGHEST_PROTOCOL)"
   ]
  },
  {
   "cell_type": "code",
   "execution_count": 7,
   "metadata": {},
   "outputs": [],
   "source": [
    "with open('solution-problem-a', 'rb') as pickle_file:\n",
    "    solution_neural_net_problem_a = pickle.load(pickle_file)\n",
    "with open('history-problem-a', 'rb') as pickle_file:\n",
    "    history_problem_a = pickle.load(pickle_file)"
   ]
  },
  {
   "cell_type": "code",
   "execution_count": 8,
   "metadata": {},
   "outputs": [
    {
     "data": {
      "image/png": "[encoded data removed]",
      "text/plain": [
       "<Figure size 432x288 with 1 Axes>"
      ]
     },
     "metadata": {
      "needs_background": "light"
     },
     "output_type": "display_data"
    }
   ],
   "source": [
    "plt.loglog(history_problem_a['train'], label='training loss')\n",
    "plt.loglog(history_problem_a['valid'], label='validation loss')\n",
    "plt.legend();"
   ]
  },
  {
   "cell_type": "markdown",
   "metadata": {},
   "source": [
    "<img src=\"evaluation.png\" alt=\"drawing\" width=\"500\"/>"
   ]
  },
  {
   "cell_type": "code",
   "execution_count": 9,
   "metadata": {},
   "outputs": [],
   "source": [
    "def get_grid(x_from_to, y_from_to, x_n_points=100, y_n_points=100, as_tensor=False):\n",
    "    x_from, x_to = x_from_to\n",
    "    y_from, y_to = y_from_to\n",
    "    if as_tensor:\n",
    "        x = torch.linspace(x_from, x_to, x_n_points)\n",
    "        y = torch.linspace(y_from, y_to, y_n_points)\n",
    "        return torch.meshgrid(x, y)\n",
    "    else:\n",
    "        x = np.linspace(x_from, x_to, x_n_points)\n",
    "        y = np.linspace(y_from, y_to, y_n_points)\n",
    "        return np.meshgrid(x, y)\n",
    "\n",
    "def compare_contour(sol_net, sol_ana, eval_on_xs, eval_on_ys, cdbc=None):\n",
    "    eval_on_xs, eval_on_ys = eval_on_xs.flatten(), eval_on_ys.flatten()\n",
    "    s_net = sol_net(eval_on_xs, eval_on_ys, as_type='np')\n",
    "    s_ana = sol_ana(eval_on_xs, eval_on_ys)\n",
    "    \n",
    "    fig = plt.figure(figsize=(18, 4))\n",
    "    \n",
    "    triang = tri.Triangulation(eval_on_xs, eval_on_ys)\n",
    "    eval_on_xs = eval_on_xs[triang.triangles].mean(axis=1) \n",
    "    eval_on_ys = eval_on_ys[triang.triangles].mean(axis=1)\n",
    "    if cdbc:\n",
    "        eval_on_ys\n",
    "        eval_on_xs = torch.tensor(eval_on_xs)\n",
    "        eval_on_ys = torch.tensor(eval_on_ys)\n",
    "        in_domain = cdbc_problem_b.in_domain(eval_on_xs, eval_on_ys).detach().numpy()\n",
    "        triang.set_mask(~in_domain)\n",
    "\n",
    "    ax1 = fig.add_subplot(131)\n",
    "    cs1 = ax1.tricontourf(triang, s_net, cmap='coolwarm')\n",
    "    ax1.set_xlabel('x')\n",
    "    ax1.set_ylabel('y')\n",
    "    ax1.set_aspect('equal', adjustable='box')\n",
    "    ax1.set_title('ANN-based solution')\n",
    "    cbar1 = fig.colorbar(cs1, format='%.0e', ax=ax1)\n",
    "\n",
    "    ax2 = fig.add_subplot(132)\n",
    "    cs2 = ax2.tricontourf(triang, s_ana, cmap='coolwarm')\n",
    "    ax2.set_xlabel('x')\n",
    "    ax2.set_ylabel('y')\n",
    "    ax2.set_aspect('equal', adjustable='box')\n",
    "    ax2.set_title('analytical solution')\n",
    "    cbar2 = fig.colorbar(cs2, format='%.0e', ax=ax2)\n",
    "\n",
    "    ax3 = fig.add_subplot(133)\n",
    "    cs3 = ax3.tricontourf(triang, s_net-s_ana, cmap='coolwarm')\n",
    "    ax3.set_xlabel('x')\n",
    "    ax3.set_ylabel('y')\n",
    "    ax3.set_aspect('equal', adjustable='box')\n",
    "    ax3.set_title('residual of ANN-based solution')\n",
    "    cbar3 = fig.colorbar(cs3, format='%.0e', ax=ax3)\n",
    "    \n",
    "def relative_error_norm(sol_net, sol_ana, eval_on_xs, eval_on_ys):\n",
    "    s_net = sol_net(eval_on_xs, eval_on_ys, as_type='np')\n",
    "    s_ana = sol_ana(eval_on_xs, eval_on_ys)\n",
    "    return linalg.norm(s_net-s_ana) / linalg.norm(s_ana)"
   ]
  },
  {
   "cell_type": "code",
   "execution_count": 10,
   "metadata": {},
   "outputs": [],
   "source": [
    "xx_train, yy_train = get_grid(\n",
    "    x_from_to=(0, 1), y_from_to=(0, 1), \n",
    "    x_n_points=28, y_n_points=28\n",
    ")\n",
    "xx_valid, yy_valid = get_grid(\n",
    "    x_from_to=(0, 1), y_from_to=(0, 1), \n",
    "    x_n_points=100, y_n_points=100\n",
    ")"
   ]
  },
  {
   "cell_type": "code",
   "execution_count": 11,
   "metadata": {},
   "outputs": [
    {
     "data": {
      "image/png": "[encoded data removed]",
      "text/plain": [
       "<Figure size 1296x288 with 6 Axes>"
      ]
     },
     "metadata": {
      "needs_background": "light"
     },
     "output_type": "display_data"
    }
   ],
   "source": [
    "compare_contour(\n",
    "    solution_neural_net_problem_a, \n",
    "    solution_analytical_problem_a,\n",
    "    xx_valid, yy_valid\n",
    ")"
   ]
  },
  {
   "cell_type": "code",
   "execution_count": 12,
   "metadata": {},
   "outputs": [
    {
     "data": {
      "text/plain": [
       "0.0025646918107203446"
      ]
     },
     "execution_count": 12,
     "metadata": {},
     "output_type": "execute_result"
    }
   ],
   "source": [
    "relative_error_norm(\n",
    "    solution_neural_net_problem_a, \n",
    "    solution_analytical_problem_a,\n",
    "    xx_train, yy_train\n",
    ")"
   ]
  },
  {
   "cell_type": "code",
   "execution_count": 13,
   "metadata": {},
   "outputs": [
    {
     "data": {
      "text/plain": [
       "0.0026655664593121524"
      ]
     },
     "execution_count": 13,
     "metadata": {},
     "output_type": "execute_result"
    }
   ],
   "source": [
    "relative_error_norm(\n",
    "    solution_neural_net_problem_a, \n",
    "    solution_analytical_problem_a,\n",
    "    xx_valid, yy_valid\n",
    ")"
   ]
  },
  {
   "cell_type": "markdown",
   "metadata": {},
   "source": [
    "## Example Problem B"
   ]
  },
  {
   "cell_type": "markdown",
   "metadata": {},
   "source": [
    "<img src=\"problem-b-1.png\" alt=\"drawing\" width=\"500\"/>\n",
    "<img src=\"problem-b-2.png\" alt=\"drawing\" width=\"500\"/>\n",
    "<img src=\"problem-b-3.png\" alt=\"drawing\" width=\"500\"/>"
   ]
  },
  {
   "cell_type": "code",
   "execution_count": 14,
   "metadata": {},
   "outputs": [],
   "source": [
    "def solution_analytical_problem_b(x, y):\n",
    "    return np.log(1+x**2+y**2)"
   ]
  },
  {
   "cell_type": "code",
   "execution_count": 15,
   "metadata": {},
   "outputs": [],
   "source": [
    "edge_length = 2.0 / np.sin(np.pi/3) / 4\n",
    "points_on_each_edge = 11\n",
    "step_size = edge_length / (points_on_each_edge-1)\n",
    "\n",
    "direction_theta  =  np.pi*2/3\n",
    "left_turn_theta  =  np.pi*1/3\n",
    "right_turn_theta = -np.pi*2/3\n",
    "\n",
    "control_points_problem_b = []\n",
    "point_x, point_y = 0.0, -1.0\n",
    "for i_edge in range(12):\n",
    "    for i_step in range(points_on_each_edge-1):\n",
    "        control_points_problem_b.append(\n",
    "            DirichletControlPoint(\n",
    "                loc=(point_x, point_y), \n",
    "                val=solution_analytical_problem_b(point_x, point_y)\n",
    "            )\n",
    "        ) \n",
    "        point_x += step_size*np.cos(direction_theta)\n",
    "        point_y += step_size*np.sin(direction_theta)\n",
    "    direction_theta += left_turn_theta if (i_edge % 2 == 0) else right_turn_theta\n",
    "\n",
    "cdbc_problem_b = CustomDirichletBoundaryCondition( \n",
    "    control_points_problem_b, \n",
    "    center_point=Point((0.0, 0.0)) \n",
    ")"
   ]
  },
  {
   "cell_type": "code",
   "execution_count": 16,
   "metadata": {},
   "outputs": [],
   "source": [
    "class PredefinedExampleGenerator2D:\n",
    "    \n",
    "    def __init__(self, xs, ys):\n",
    "        self.size = len(xs)\n",
    "        x = torch.tensor(xs, requires_grad=True, dtype=torch.float32)\n",
    "        y = torch.tensor(ys, requires_grad=True, dtype=torch.float32)\n",
    "        self.x, self.y = x.flatten(), y.flatten()\n",
    "\n",
    "    def get_examples(self):\n",
    "        return self.x, self.y"
   ]
  },
  {
   "cell_type": "code",
   "execution_count": 17,
   "metadata": {},
   "outputs": [],
   "source": [
    "def to_np(tensor):\n",
    "    return tensor.detach().numpy()\n",
    "\n",
    "xx_train, yy_train = get_grid(\n",
    "    x_from_to=(-1, 1), y_from_to=(-1, 1), \n",
    "    x_n_points=28, y_n_points=28,\n",
    "    as_tensor=True\n",
    ")\n",
    "is_in_domain_train = cdbc_problem_b.in_domain(xx_train, yy_train)\n",
    "xx_train, yy_train = to_np(xx_train), to_np(yy_train)\n",
    "xx_train, yy_train = xx_train[is_in_domain_train], yy_train[is_in_domain_train]\n",
    "train_gen = PredefinedExampleGenerator2D(xx_train, yy_train)\n",
    "\n",
    "\n",
    "xx_valid, yy_valid = get_grid(\n",
    "    x_from_to=(-1, 1), y_from_to=(-1, 1), \n",
    "    x_n_points=100, y_n_points=100,\n",
    "    as_tensor=True\n",
    ")\n",
    "is_in_domain_valid = cdbc_problem_b.in_domain(xx_valid, yy_valid)\n",
    "xx_valid, yy_valid = to_np(xx_valid), to_np(yy_valid)\n",
    "xx_valid, yy_valid = xx_valid[is_in_domain_valid], yy_valid[is_in_domain_valid]\n",
    "valid_gen = PredefinedExampleGenerator2D(xx_valid, yy_valid)"
   ]
  },
  {
   "cell_type": "code",
   "execution_count": 18,
   "metadata": {},
   "outputs": [
    {
     "data": {
      "image/png": "[encoded data removed]",
      "text/plain": [
       "<Figure size 504x504 with 1 Axes>"
      ]
     },
     "metadata": {
      "needs_background": "light"
     },
     "output_type": "display_data"
    }
   ],
   "source": [
    "plt.figure(figsize=(7, 7))\n",
    "plt.scatter(xx_train, yy_train)\n",
    "plt.xlim(-1, 1)\n",
    "plt.ylim(-1, 1)\n",
    "plt.gca().set_aspect('equal', adjustable='box')\n",
    "plt.title('training points');"
   ]
  },
  {
   "cell_type": "code",
   "execution_count": 19,
   "metadata": {},
   "outputs": [],
   "source": [
    "%matplotlib notebook\n",
    "if RETRAIN_PROBLEM_B:\n",
    "    # nabla^2 psi(x, y) = (e^(-x))(x-2+y^3+6y)\n",
    "    def de_problem_b(u, x, y):\n",
    "        return diff(u, x, order=2) + diff(u, y, order=2) + torch.exp(u) - 1.0 - x**2 - y**2 - 4.0/(1.0+x**2+y**2)**2\n",
    "\n",
    "    # fully connected network with one hidden layer (35 hidden units with softplus activation)\n",
    "    net = FCNN(n_input_units=2, n_hidden_units=35, n_hidden_layers=1, actv=nn.Softplus)\n",
    "\n",
    "    # train on 28 X 28 grid\n",
    "    solution_neural_net_problem_b, history_problem_b = solve2D(\n",
    "        pde=de_problem_b, condition=cdbc_problem_b,\n",
    "        xy_min=(-1, -1), xy_max=(1, 1),\n",
    "        train_generator=train_gen, valid_generator=valid_gen,\n",
    "        net=net, max_epochs=10000, batch_size=324,\n",
    "        monitor=Monitor2D(check_every=1, xy_min=(-1, -1), xy_max=(1, 1))\n",
    "    )\n",
    "%matplotlib inline"
   ]
  },
  {
   "cell_type": "code",
   "execution_count": 20,
   "metadata": {},
   "outputs": [],
   "source": [
    "if RETRAIN_PROBLEM_B:\n",
    "    with open('solution-problem-b', 'wb') as pickle_file:\n",
    "        pickle.dump(solution_neural_net_problem_b, pickle_file, protocol=pickle.HIGHEST_PROTOCOL)\n",
    "    with open('history-problem-b', 'wb') as pickle_file:\n",
    "        pickle.dump(history_problem_b, pickle_file, protocol=pickle.HIGHEST_PROTOCOL)"
   ]
  },
  {
   "cell_type": "code",
   "execution_count": 21,
   "metadata": {},
   "outputs": [],
   "source": [
    "with open('solution-problem-b', 'rb') as pickle_file:\n",
    "    solution_neural_net_problem_b = pickle.load(pickle_file)\n",
    "with open('history-problem-b', 'rb') as pickle_file:\n",
    "    history_problem_b = pickle.load(pickle_file)"
   ]
  },
  {
   "cell_type": "code",
   "execution_count": 22,
   "metadata": {},
   "outputs": [
    {
     "data": {
      "image/png": "[encoded data removed]",
      "text/plain": [
       "<Figure size 432x288 with 1 Axes>"
      ]
     },
     "metadata": {
      "needs_background": "light"
     },
     "output_type": "display_data"
    }
   ],
   "source": [
    "plt.loglog(history_problem_b['train'], label='training loss')\n",
    "plt.loglog(history_problem_b['valid'], label='validation loss')\n",
    "plt.legend();"
   ]
  },
  {
   "cell_type": "code",
   "execution_count": 23,
   "metadata": {},
   "outputs": [],
   "source": [
    "# xx_train, yy_train = get_grid(\n",
    "#     x_from_to=(-1, 1), y_from_to=(-1, 1), \n",
    "#     x_n_points=28, y_n_points=28\n",
    "# )\n",
    "# xx_valid, yy_valid = get_grid(\n",
    "#     x_from_to=(-1, 1), y_from_to=(-1, 1), \n",
    "#     x_n_points=100, y_n_points=100\n",
    "# )"
   ]
  },
  {
   "cell_type": "code",
   "execution_count": 24,
   "metadata": {},
   "outputs": [],
   "source": [
    "def in_domain_problem_b(xs, ys):\n",
    "    xs, ys = torch.tensor(xs), torch.tensor(ys)\n",
    "    ret = cdbc_problem_b.in_domain(xs, ys)\n",
    "    print(ret.shape)\n",
    "    return cdbc_problem_b.in_domain(xs, ys)"
   ]
  },
  {
   "cell_type": "code",
   "execution_count": 25,
   "metadata": {},
   "outputs": [
    {
     "data": {
      "image/png": "[encoded data removed]",
      "text/plain": [
       "<Figure size 1296x288 with 6 Axes>"
      ]
     },
     "metadata": {
      "needs_background": "light"
     },
     "output_type": "display_data"
    }
   ],
   "source": [
    "compare_contour(\n",
    "    solution_neural_net_problem_b, \n",
    "    solution_analytical_problem_b,\n",
    "    xx_valid, yy_valid, cdbc=cdbc_problem_b\n",
    ")"
   ]
  },
  {
   "cell_type": "code",
   "execution_count": 26,
   "metadata": {},
   "outputs": [
    {
     "data": {
      "text/plain": [
       "0.0012643817"
      ]
     },
     "execution_count": 26,
     "metadata": {},
     "output_type": "execute_result"
    }
   ],
   "source": [
    "relative_error_norm(\n",
    "    solution_neural_net_problem_b, \n",
    "    solution_analytical_problem_b,\n",
    "    xx_train, yy_train\n",
    ")"
   ]
  },
  {
   "cell_type": "code",
   "execution_count": 27,
   "metadata": {},
   "outputs": [
    {
     "data": {
      "text/plain": [
       "0.0013063905"
      ]
     },
     "execution_count": 27,
     "metadata": {},
     "output_type": "execute_result"
    }
   ],
   "source": [
    "relative_error_norm(\n",
    "    solution_neural_net_problem_b, \n",
    "    solution_analytical_problem_b,\n",
    "    xx_valid, yy_valid\n",
    ")"
   ]
  }
 ],
 "metadata": {
  "kernelspec": {
   "display_name": "Python 3",
   "language": "python",
   "name": "python3"
  },
  "language_info": {
   "codemirror_mode": {
    "name": "ipython",
    "version": 3
   },
   "file_extension": ".py",
   "mimetype": "text/x-python",
   "name": "python",
   "nbconvert_exporter": "python",
   "pygments_lexer": "ipython3",
   "version": "3.7.4"
  }
 },
 "nbformat": 4,
 "nbformat_minor": 2
}
