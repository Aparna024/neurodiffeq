{
 "cells": [
  {
   "cell_type": "markdown",
   "metadata": {},
   "source": [
    "* time spent on 1 epoch drops significantly with larger batch (but this 'cancels out' with slowed down convergence)\n",
    "* most of the time is spent in actual work (run_backward)\n",
    "* even so, why is calculating derivatives taking so much time?"
   ]
  },
  {
   "cell_type": "code",
   "execution_count": 1,
   "metadata": {
    "scrolled": false
   },
   "outputs": [],
   "source": [
    "import pstats\n",
    "from pstats import SortKey"
   ]
  },
  {
   "cell_type": "code",
   "execution_count": 2,
   "metadata": {},
   "outputs": [
    {
     "name": "stdout",
     "output_type": "stream",
     "text": [
      "Thu Dec 12 09:59:46 2019    stats-b16\n",
      "\n",
      "         1167475 function calls (1153867 primitive calls) in 124.407 seconds\n",
      "\n",
      "   Ordered by: internal time\n",
      "   List reduced from 3712 to 10 due to restriction <10>\n",
      "\n",
      "   ncalls  tottime  percall  cumtime  percall filename:lineno(function)\n",
      "     3240  109.744    0.034  109.744    0.034 {method 'run_backward' of 'torch._C._EngineBase' objects}\n",
      "        1    5.685    5.685  123.423  123.423 pde.py:395(solve2D_system)\n",
      "   234000    2.341    0.000    2.341    0.000 profiled.py:160(<genexpr>)\n",
      "     1950    2.023    0.001    6.897    0.004 profiled.py:170(interpolate_by_thin_plate_spline)\n",
      "    83450    1.284    0.000    3.634    0.000 {built-in method builtins.sum}\n",
      "    78000    0.866    0.000    4.478    0.000 profiled.py:159(_ri_sq_thin_plate_spline_trainval)\n",
      "     1300    0.437    0.000   45.205    0.035 neurodiffeq.py:5(diff)\n",
      "    78000    0.388    0.000    0.388    0.000 {built-in method log}\n",
      "    50/48    0.303    0.006    0.305    0.006 {built-in method _imp.create_dynamic}\n",
      "      640    0.085    0.000    0.238    0.000 adam.py:49(step)\n",
      "\n",
      "\n"
     ]
    },
    {
     "data": {
      "text/plain": [
       "<pstats.Stats at 0x108b6de10>"
      ]
     },
     "execution_count": 2,
     "metadata": {},
     "output_type": "execute_result"
    }
   ],
   "source": [
    "p_b16 = pstats.Stats('stats-b16')\n",
    "p_b16.strip_dirs().sort_stats(SortKey.TIME).print_stats(10)"
   ]
  },
  {
   "cell_type": "code",
   "execution_count": 3,
   "metadata": {},
   "outputs": [
    {
     "name": "stdout",
     "output_type": "stream",
     "text": [
      "Fri Dec 13 10:22:44 2019    stats-b256\n",
      "\n",
      "         597493 function calls (587485 primitive calls) in 10.349 seconds\n",
      "\n",
      "   Ordered by: internal time\n",
      "   List reduced from 3712 to 10 due to restriction <10>\n",
      "\n",
      "   ncalls  tottime  percall  cumtime  percall filename:lineno(function)\n",
      "      240    8.540    0.036    8.540    0.036 {method 'run_backward' of 'torch._C._EngineBase' objects}\n",
      "        1    0.512    0.512    9.688    9.688 pde.py:395(solve2D_system)\n",
      "    18000    0.180    0.000    0.180    0.000 profiled.py:160(<genexpr>)\n",
      "      150    0.158    0.001    0.535    0.004 profiled.py:170(interpolate_by_thin_plate_spline)\n",
      "    50/48    0.116    0.002    0.118    0.002 {built-in method _imp.create_dynamic}\n",
      "    10850    0.102    0.000    0.284    0.000 {built-in method builtins.sum}\n",
      "     6000    0.065    0.000    0.343    0.000 profiled.py:159(_ri_sq_thin_plate_spline_trainval)\n",
      "      502    0.064    0.000    0.064    0.000 {built-in method marshal.loads}\n",
      "      100    0.036    0.000    4.036    0.040 neurodiffeq.py:5(diff)\n",
      "     6000    0.033    0.000    0.033    0.000 {built-in method log}\n",
      "\n",
      "\n"
     ]
    },
    {
     "data": {
      "text/plain": [
       "<pstats.Stats at 0x108b6da10>"
      ]
     },
     "execution_count": 3,
     "metadata": {},
     "output_type": "execute_result"
    }
   ],
   "source": [
    "p_b16 = pstats.Stats('stats-b256')\n",
    "p_b16.strip_dirs().sort_stats(SortKey.TIME).print_stats(10)"
   ]
  },
  {
   "cell_type": "code",
   "execution_count": 4,
   "metadata": {},
   "outputs": [],
   "source": [
    "# both torch.autograd.grad and tensor.backward calls run_backward. Which is the one taking the most time?\n",
    "# torch.autograd.grad: called in neurodiffeq.diff (calc derivative terms in ode/pde ('s loss))\n",
    "# tensor.backward: called in neurodiffeq.ode/pde.solve (calc derivative w.r.t. ANN weights)\n",
    "import numpy as np\n",
    "import torch\n",
    "import matplotlib.pyplot as plt\n",
    "%matplotlib inline\n",
    "from neurodiffeq import diff\n",
    "from neurodiffeq.networks import FCNN\n",
    "from neurodiffeq.ode import IVP, Monitor, solve_system\n",
    "from neurodiffeq.pde import solve2D, ExampleGenerator2D, Monitor2D\n",
    "from custombc import Point, DirichletControlPoint, CustomDirichletBoundaryCondition\n",
    "import timeit"
   ]
  },
  {
   "cell_type": "code",
   "execution_count": 5,
   "metadata": {},
   "outputs": [],
   "source": [
    "BATCH_SIZE_SQRT = 16\n",
    "train_gen = ExampleGenerator2D((BATCH_SIZE_SQRT, BATCH_SIZE_SQRT), (0, 0), (1, 1), method='equally-spaced-noisy')\n",
    "x_train, y_train = train_gen.get_examples()\n",
    "x_train, y_train = x_train.reshape((-1, 1)), y_train.reshape((-1, 1))"
   ]
  },
  {
   "cell_type": "code",
   "execution_count": 6,
   "metadata": {},
   "outputs": [],
   "source": [
    "control_points_square = []\n",
    "for i in np.linspace(0, 1, 11):\n",
    "    control_points_square.append(DirichletControlPoint(loc=(0, i), val=0))\n",
    "for i in np.linspace(0, 1, 11):\n",
    "    control_points_square.append(DirichletControlPoint(loc=(1, i), val=0))\n",
    "for i in np.linspace(1, 0, 11):\n",
    "    control_points_square.append(DirichletControlPoint(loc=(i, 0), val=0))\n",
    "for i in np.linspace(0, 1, 11):\n",
    "    control_points_square.append(DirichletControlPoint(loc=(i, 1), val=0))\n",
    "    \n",
    "cdbc = CustomDirichletBoundaryCondition( control_points_square, center_point=Point((0.5, 0.5)) )"
   ]
  },
  {
   "cell_type": "code",
   "execution_count": 7,
   "metadata": {},
   "outputs": [],
   "source": [
    "def poisson(u, x, y): \n",
    "    return diff(u, x, order=2) + diff(u, y, order=2) - 2*x*(y-1)*(y-2*x+x*y+2)*torch.exp(x-y)"
   ]
  },
  {
   "cell_type": "code",
   "execution_count": 8,
   "metadata": {
    "scrolled": false
   },
   "outputs": [
    {
     "name": "stdout",
     "output_type": "stream",
     "text": [
      "77.4 ms ± 571 µs per loop (mean ± std. dev. of 7 runs, 10 loops each)\n"
     ]
    }
   ],
   "source": [
    "# timing torch.autograd.grad\n",
    "net = FCNN(n_input_units=2, n_hidden_units=32, n_hidden_layers=1)\n",
    "u = net(torch.cat((x_train, y_train), 1))\n",
    "u_tilde = cdbc.enforce(net, x_train, y_train)\n",
    "%timeit residual = poisson(u_tilde, x_train, y_train)"
   ]
  },
  {
   "cell_type": "code",
   "execution_count": 9,
   "metadata": {},
   "outputs": [],
   "source": [
    "net = FCNN(n_input_units=2, n_hidden_units=32, n_hidden_layers=1)"
   ]
  },
  {
   "cell_type": "code",
   "execution_count": 10,
   "metadata": {},
   "outputs": [
    {
     "name": "stdout",
     "output_type": "stream",
     "text": [
      "204 ms ± 5.56 ms per loop (mean ± std. dev. of 7 runs, 1 loop each)\n"
     ]
    }
   ],
   "source": [
    "%%timeit\n",
    "# timing torch.autograd.grad and tensor.backward \n",
    "u = net(torch.cat((x_train, y_train), 1))\n",
    "u_tilde = cdbc.enforce(net, x_train, y_train)\n",
    "residual = poisson(u_tilde, x_train, y_train)\n",
    "zeros_train = torch.zeros_like(u_tilde)\n",
    "mse = torch.nn.MSELoss()\n",
    "loss = mse(residual, zeros_train)\n",
    "loss.backward()"
   ]
  },
  {
   "cell_type": "code",
   "execution_count": 11,
   "metadata": {},
   "outputs": [],
   "source": [
    "n_points_per_edge = range(3, 21)\n",
    "tspent_grad = []\n",
    "tspent_backward = []\n",
    "REPEAT = 10\n",
    "for n in n_points_per_edge:\n",
    "    control_points_square = []\n",
    "    for i in np.linspace(0, 1, n):\n",
    "        control_points_square.append(DirichletControlPoint(loc=(0, i), val=0))\n",
    "    for i in np.linspace(0, 1, n):\n",
    "        control_points_square.append(DirichletControlPoint(loc=(1, i), val=0))\n",
    "    for i in np.linspace(1, 0, n):\n",
    "        control_points_square.append(DirichletControlPoint(loc=(i, 0), val=0))\n",
    "    for i in np.linspace(0, 1, n):\n",
    "        control_points_square.append(DirichletControlPoint(loc=(i, 1), val=0))\n",
    "    cdbc = CustomDirichletBoundaryCondition( control_points_square, center_point=Point((0.5, 0.5)) )\n",
    "    \n",
    "    # timing code that involves autograd.grad\n",
    "    total_grad = 0.0\n",
    "    for _ in range(REPEAT):\n",
    "        net = FCNN(n_input_units=2, n_hidden_units=32, n_hidden_layers=1)\n",
    "        u = net(torch.cat((x_train, y_train), 1))\n",
    "        u_tilde = cdbc.enforce(net, x_train, y_train)\n",
    "        \n",
    "        start_time = timeit.default_timer()\n",
    "        residual = poisson(u_tilde, x_train, y_train)   \n",
    "        end_time = timeit.default_timer()\n",
    "        \n",
    "        total_grad += end_time- start_time\n",
    "    tspent_grad.append(total_grad/REPEAT)\n",
    "    \n",
    "    # timing code that involves tensor.backward\n",
    "    total_backward = 0.0\n",
    "    for _ in range(REPEAT):\n",
    "        u = net(torch.cat((x_train, y_train), 1))\n",
    "        u_tilde = cdbc.enforce(net, x_train, y_train)\n",
    "        residual = poisson(u_tilde, x_train, y_train)\n",
    "        zeros_train = torch.zeros_like(u_tilde)\n",
    "        mse = torch.nn.MSELoss()\n",
    "        loss = mse(residual, zeros_train)\n",
    "        \n",
    "        start_time = timeit.default_timer()\n",
    "        loss.backward()\n",
    "        end_time = timeit.default_timer()\n",
    "        \n",
    "        total_backward += end_time- start_time\n",
    "    tspent_backward.append(total_backward/REPEAT)"
   ]
  },
  {
   "cell_type": "code",
   "execution_count": 12,
   "metadata": {},
   "outputs": [
    {
     "data": {
      "image/png": "[encoded data removed]",
      "text/plain": [
       "<Figure size 432x288 with 1 Axes>"
      ]
     },
     "metadata": {
      "needs_background": "light"
     },
     "output_type": "display_data"
    }
   ],
   "source": [
    "plt.plot(n_points_per_edge, tspent_grad, label='autograd.grad')\n",
    "plt.plot(n_points_per_edge, tspent_backward, label='tensor.backward')\n",
    "plt.title('time spent on computing derivatives')\n",
    "plt.legend();"
   ]
  }
 ],
 "metadata": {
  "kernelspec": {
   "display_name": "Python 3",
   "language": "python",
   "name": "python3"
  },
  "language_info": {
   "codemirror_mode": {
    "name": "ipython",
    "version": 3
   },
   "file_extension": ".py",
   "mimetype": "text/x-python",
   "name": "python",
   "nbconvert_exporter": "python",
   "pygments_lexer": "ipython3",
   "version": "3.7.4"
  }
 },
 "nbformat": 4,
 "nbformat_minor": 2
}
