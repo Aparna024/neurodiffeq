{
 "cells": [
  {
   "cell_type": "code",
   "execution_count": 5,
   "metadata": {},
   "outputs": [
    {
     "name": "stdout",
     "output_type": "stream",
     "text": [
      "Collecting requests\n",
      "  Downloading requests-2.25.1-py2.py3-none-any.whl (61 kB)\n",
      "\u001b[K     |████████████████████████████████| 61 kB 48 kB/s  eta 0:00:01\n",
      "\u001b[?25hCollecting urllib3<1.27,>=1.21.1\n",
      "  Downloading urllib3-1.26.4-py2.py3-none-any.whl (153 kB)\n",
      "\u001b[K     |████████████████████████████████| 153 kB 53 kB/s  eta 0:00:01\n",
      "\u001b[?25hCollecting idna<3,>=2.5\n",
      "  Downloading idna-2.10-py2.py3-none-any.whl (58 kB)\n",
      "\u001b[K     |████████████████████████████████| 58 kB 475 kB/s eta 0:00:01\n",
      "\u001b[?25hCollecting certifi>=2017.4.17\n",
      "  Downloading certifi-2020.12.5-py2.py3-none-any.whl (147 kB)\n",
      "\u001b[K     |████████████████████████████████| 147 kB 1.6 MB/s eta 0:00:01\n",
      "\u001b[?25hCollecting chardet<5,>=3.0.2\n",
      "  Downloading chardet-4.0.0-py2.py3-none-any.whl (178 kB)\n",
      "\u001b[K     |████████████████████████████████| 178 kB 37 kB/s  eta 0:00:01\n",
      "\u001b[?25hInstalling collected packages: urllib3, idna, chardet, certifi, requests\n",
      "Successfully installed certifi-2020.12.5 chardet-4.0.0 idna-2.10 requests-2.25.1 urllib3-1.26.4\n"
     ]
    }
   ],
   "source": [
    "!pip install requests"
   ]
  },
  {
   "cell_type": "code",
   "execution_count": 41,
   "metadata": {},
   "outputs": [],
   "source": [
    "import sys\n",
    "sys.path.append('../')\n",
    "\n",
    "import matplotlib.pyplot as plt\n",
    "import numpy as np\n",
    "\n",
    "from neurodiffeq import diff      # the differentiation operation\n",
    "from neurodiffeq.ode import solve # the ANN-based solver\n",
    "from neurodiffeq.conditions import IVP   # the initial condition\n",
    "\n",
    "from neurodiffeq.monitors import Monitor1D\n",
    "from neurodiffeq.ode import solve_system\n",
    "\n",
    "from neurodiffeq.networks import FCNN    # fully-connect neural network\n",
    "from neurodiffeq.networks import SinActv  #sin activation\n",
    "\n",
    "from neurodiffeq.solvers import Solver1D\n",
    "from neurodiffeq.callbacks import MonitorCallback\n",
    "\n",
    "from neurodiffeq.conditions import DirichletBVP2D\n",
    "from neurodiffeq.solvers import Solver2D\n",
    "from neurodiffeq.monitors import Monitor2D\n",
    "from neurodiffeq.generators import Generator2D\n",
    "import torch\n",
    "\n",
    "from neurodiffeq.conditions import IBVP1D \n",
    "from neurodiffeq.pde import make_animation\n",
    "import pickle\n",
    "import pandas as pd\n",
    "import dill\n",
    "import json\n",
    "import requests\n",
    "from pprint import pprint\n",
    "import os"
   ]
  },
  {
   "cell_type": "markdown",
   "metadata": {},
   "source": [
    "# /solutions \n",
    "\n",
    "## Get a List of all the Solutions Present"
   ]
  },
  {
   "cell_type": "code",
   "execution_count": 27,
   "metadata": {},
   "outputs": [
    {
     "name": "stdout",
     "output_type": "stream",
     "text": [
      "[{'desc': 'Non Auto System Equation',\n",
      "  'id': 1,\n",
      "  'name': 'joy_non_auto_sys',\n",
      "  'path_to_file': 'model_storage/joy_non_auto_sys'},\n",
      " {'desc': 'Exponential Equation',\n",
      "  'id': 2,\n",
      "  'name': 'sathvik_exponential',\n",
      "  'path_to_file': 'model_storage/sathvik_exponential'}]\n"
     ]
    }
   ],
   "source": [
    "URL = 'http://192.168.29.150:9000/v1/solutions'\n",
    "\n",
    "r = requests.get(URL)\n",
    "\n",
    "data = r.json()\n",
    "\n",
    "pprint(data)"
   ]
  },
  {
   "cell_type": "markdown",
   "metadata": {},
   "source": [
    "# /solutions/{id}\n",
    "\n",
    "## Get me a specific solution based on ID"
   ]
  },
  {
   "cell_type": "code",
   "execution_count": 28,
   "metadata": {},
   "outputs": [
    {
     "name": "stdout",
     "output_type": "stream",
     "text": [
      "{'desc': 'Exponential Equation',\n",
      " 'id': 2,\n",
      " 'name': 'sathvik_exponential',\n",
      " 'path_to_file': 'model_storage/sathvik_exponential'}\n"
     ]
    }
   ],
   "source": [
    "URL = 'http://192.168.29.150:9000/v1/solutions/2'\n",
    "\n",
    "r = requests.get(URL)\n",
    "\n",
    "data = r.json()\n",
    "\n",
    "pprint(data)"
   ]
  },
  {
   "cell_type": "markdown",
   "metadata": {},
   "source": [
    "## Loading Exponential Equation Model by Satvik and fitting"
   ]
  },
  {
   "cell_type": "code",
   "execution_count": 53,
   "metadata": {},
   "outputs": [],
   "source": [
    "#Load Model\n",
    "loaded_solver = Solver1D.load(path='/app/'+data['path_to_file'])\n",
    "\n",
    "# Fit the solver (i.e., train the neural networks)\n",
    "loaded_solver.fit(max_epochs=1000, callbacks=[monitor_callback])\n",
    "\n",
    "# Get the solution\n",
    "solution = loaded_solver.get_solution()"
   ]
  },
  {
   "cell_type": "code",
   "execution_count": 56,
   "metadata": {},
   "outputs": [
    {
     "data": {
      "image/png": "[encoded data removed]",
      "text/plain": [
       "<Figure size 432x288 with 1 Axes>"
      ]
     },
     "metadata": {
      "needs_background": "light"
     },
     "output_type": "display_data"
    }
   ],
   "source": [
    "ts = np.linspace(0, 1.0, 100)\n",
    "u_net_loaded = solution(ts, to_numpy=True)\n",
    "u_ana = np.exp(ts)\n",
    "\n",
    "plt.plot(ts, u_net_loaded, label='ANN-based Loaded solution')\n",
    "plt.plot(ts, u_ana, label='Analytical solution')\n",
    "plt.ylabel('u')\n",
    "plt.xlabel('t')\n",
    "plt.title('Solution from Loaded Model')\n",
    "plt.legend();"
   ]
  },
  {
   "cell_type": "code",
   "execution_count": null,
   "metadata": {},
   "outputs": [],
   "source": []
  }
 ],
 "metadata": {
  "kernelspec": {
   "display_name": "Python 3",
   "language": "python",
   "name": "python3"
  },
  "language_info": {
   "codemirror_mode": {
    "name": "ipython",
    "version": 3
   },
   "file_extension": ".py",
   "mimetype": "text/x-python",
   "name": "python",
   "nbconvert_exporter": "python",
   "pygments_lexer": "ipython3",
   "version": "3.7.4"
  }
 },
 "nbformat": 4,
 "nbformat_minor": 5
}
